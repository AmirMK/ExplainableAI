{
 "cells": [
  {
   "cell_type": "code",
   "execution_count": 108,
   "id": "e010766d",
   "metadata": {},
   "outputs": [],
   "source": [
    "import numpy as np\n",
    "import pandas as pd\n",
    "\n",
    "\n",
    "from sklearn.preprocessing import OneHotEncoder\n",
    "from sklearn.preprocessing import StandardScaler\n",
    "from sklearn.impute import SimpleImputer\n",
    "from sklearn.compose import ColumnTransformer\n",
    "from sklearn.pipeline import Pipeline\n",
    "from sklearn.ensemble import RandomForestRegressor\n",
    "from sklearn.linear_model import Lasso\n",
    "from sklearn.neighbors import KNeighborsRegressor\n",
    "from sklearn.model_selection import GridSearchCV\n",
    "\n",
    "from omnixai.explainers.tabular import TabularExplainer\n",
    "from omnixai.data.tabular import Tabular\n",
    "\n"
   ]
  },
  {
   "cell_type": "code",
   "execution_count": 136,
   "id": "3d0269b1",
   "metadata": {},
   "outputs": [
    {
     "data": {
      "text/plain": [
       "['Area', 'Age', 'Type', 'Price Range', 'Capacity', 'Number of Menu Items']"
      ]
     },
     "execution_count": 136,
     "metadata": {},
     "output_type": "execute_result"
    }
   ],
   "source": [
    "categorical_features+numerical_feature"
   ]
  },
  {
   "cell_type": "code",
   "execution_count": 137,
   "id": "55551014",
   "metadata": {},
   "outputs": [
    {
     "ename": "SyntaxError",
     "evalue": "invalid syntax (155560165.py, line 47)",
     "output_type": "error",
     "traceback": [
      "\u001b[1;36m  Input \u001b[1;32mIn [137]\u001b[1;36m\u001b[0m\n\u001b[1;33m    ,('scaler', StandardScaler())])categorical_transformer = OneHotEncoder(categories='auto')\u001b[0m\n\u001b[1;37m                                   ^\u001b[0m\n\u001b[1;31mSyntaxError\u001b[0m\u001b[1;31m:\u001b[0m invalid syntax\n"
     ]
    }
   ],
   "source": [
    "#Model selection function\n",
    "def regressor_selection(X,y, metric = 'r2'):    \n",
    "    pipe = Pipeline([('regressor' , RandomForestRegressor())])    \n",
    "    param_grid = ''\n",
    "    param = [        \n",
    "                \n",
    "        {'regressor' : [RandomForestRegressor()],\n",
    "        'regressor__n_estimators' : [100,200,500],\n",
    "        'regressor__max_depth' : list( range(5,25,5) ),\n",
    "        'regressor__min_samples_split' : list( range(4,12,2) )\n",
    "        },\n",
    "        \n",
    "        {'regressor' : [KNeighborsRegressor()],\n",
    "         'regressor__n_neighbors' : [5,10,20,30],\n",
    "         'regressor__p' : [1,2] \n",
    "        },\n",
    "        {\n",
    "         'regressor' : [Lasso(max_iter=500)],\n",
    "         'regressor__alpha' : [0.001,0.01,0.1,1,10,100,1000]         \n",
    "        }\n",
    "            ]\n",
    "    param_grid = param    \n",
    "    clf = GridSearchCV(pipe, param_grid = param_grid, \n",
    "                       cv = 5, n_jobs=-1,scoring = metric)    \n",
    "    best_clf = clf.fit(X, y)\n",
    "    \n",
    "    return(best_clf.best_params_['regressor'])\n",
    "\n",
    "\n",
    "\n",
    "#Reading Data\n",
    "url=  'Restaurant_Profitability_Training_Data.csv'\n",
    "df = pd.read_csv(url)\n",
    "\n",
    "Target = 'Profit'\n",
    "categorical_features = ['Area', 'Age', 'Type','Price Range','Capacity','Number of Menu Items']\n",
    "numerical_feature = []\n",
    "target = 'Profit'\n",
    "\n",
    "label=df[target]\n",
    "data= df[categorical_features+numerical_feature]\n",
    "\n",
    "\n",
    "\n",
    "#Data Preprocessing\n",
    "numeric_transformer = Pipeline(steps=[('imputer', SimpleImputer(strategy='median'))\n",
    "                                      ,('scaler', StandardScaler())])\n",
    "categorical_transformer = OneHotEncoder(categories='auto')\n",
    "\n",
    "encoder = ColumnTransformer(\n",
    "    transformers=[\n",
    "        ('numerical', numeric_transformer, numerical_feature),\n",
    "        ('categorical', categorical_transformer, categorical_features)])\n",
    "encoder.fit(data)\n",
    "\n",
    "#Model Building and Selection\n",
    "clf = regressor_selection(encoder.transform(data),label, metric = 'r2')\n",
    "model = clf.fit(encoder.transform(data),label)                \n",
    "\n",
    "#\n",
    "tabular_data = Tabular(\n",
    "    data=data,\n",
    "    categorical_columns=categorical_features\n",
    " \n",
    ")"
   ]
  },
  {
   "cell_type": "code",
   "execution_count": 111,
   "id": "fc6c5d6c",
   "metadata": {},
   "outputs": [],
   "source": [
    "#Wrapper function for prediction\n",
    "def Profitability_Prediction(Areas, Ages, Types, Price_Ranges, Capacities, Items):    \n",
    "    input_data = np.column_stack([Areas, Ages, Types, Price_Ranges, Capacities, Items])\n",
    "    X = pd.DataFrame(input_data,columns=['Area', 'Age', 'Type','Price Range','Capacity','Number of Menu Items'])\n",
    "    result = model.predict(encoder.transform(X))\n",
    "    return result.tolist()\n"
   ]
  },
  {
   "cell_type": "code",
   "execution_count": 112,
   "id": "45900882",
   "metadata": {},
   "outputs": [],
   "source": [
    "def pre_processing(tabular_data):\n",
    "    X = tabular_data.to_pd()    \n",
    "    return encoder.transform(X)"
   ]
  },
  {
   "cell_type": "code",
   "execution_count": 138,
   "id": "3281b949",
   "metadata": {},
   "outputs": [],
   "source": [
    "# Initialize a TabularExplainer\n",
    "explainers = TabularExplainer(\n",
    "   explainers=[\"lime\", \"shap\"], # The explainers to apply\n",
    "   mode=\"regression\",                             # The task type\n",
    "   data=tabular_data,                                   # The data for initializing the explainers\n",
    "   model=model,                                       # The ML model to explain\n",
    "   preprocess=pre_processing,     # Converts raw features into the model inputs\n",
    "    params={\n",
    "        \"lime\": {\"kernel_width\": 3},\n",
    "        \"shap\": {\"nsamples\": 100}\n",
    "    }\n",
    "   \n",
    ")"
   ]
  },
  {
   "cell_type": "code",
   "execution_count": 154,
   "id": "d7196d51",
   "metadata": {},
   "outputs": [],
   "source": [
    "def Profitability_Explainers(Areas, Ages, Types, Price_Ranges, Capacities, Items):    \n",
    "    input_data = np.column_stack([Areas, Ages, Types, Price_Ranges, Capacities, Items])\n",
    "    X = pd.DataFrame(input_data,columns=['Area', 'Age', 'Type','Price Range','Capacity','Number of Menu Items'])\n",
    "    \n",
    "    tabular_data = Tabular(\n",
    "    data=X,\n",
    "    categorical_columns=categorical_features\n",
    " \n",
    "        )\n",
    "    explanations = explainers.explain(tabular_data)\n",
    "    return explanations['shap'].get_explanations()[0]['scores']"
   ]
  },
  {
   "cell_type": "code",
   "execution_count": 155,
   "id": "0fc6f7bd",
   "metadata": {},
   "outputs": [],
   "source": [
    "Areas, Ages, Types, Price_Ranges, Capacities, Items = ['Downtown'],['Developed'],['Cafeteria'],['$'],['90-100'],['Salad & Sandwich only']"
   ]
  },
  {
   "cell_type": "code",
   "execution_count": 158,
   "id": "8b3dd6a7",
   "metadata": {},
   "outputs": [
    {
     "name": "stderr",
     "output_type": "stream",
     "text": [
      "100%|████████████████████████████████████████████████████████████████████████████████████| 1/1 [00:00<00:00,  4.21it/s]\n"
     ]
    },
    {
     "data": {
      "text/plain": [
       "[-16032.586610081848,\n",
       " -14727.565925624636,\n",
       " -12518.838368002485,\n",
       " 1458.5810453150418,\n",
       " 1313.2527373121823,\n",
       " 3.4650000427821013]"
      ]
     },
     "execution_count": 158,
     "metadata": {},
     "output_type": "execute_result"
    }
   ],
   "source": [
    "Profitability_Explainers(Areas, Ages, Types, Price_Ranges, Capacities, Items)"
   ]
  },
  {
   "cell_type": "code",
   "execution_count": 159,
   "id": "cc2265d1",
   "metadata": {},
   "outputs": [
    {
     "name": "stderr",
     "output_type": "stream",
     "text": [
      "100%|████████████████████████████████████████████████████████████████████████████████████| 1/1 [00:00<00:00,  4.19it/s]\n"
     ]
    },
    {
     "data": {
      "text/plain": [
       "[-16032.586610081848,\n",
       " -14727.565925624636,\n",
       " -12518.838368002485,\n",
       " 1458.5810453150418,\n",
       " 1313.2527373121823,\n",
       " 3.4650000427821013]"
      ]
     },
     "execution_count": 159,
     "metadata": {},
     "output_type": "execute_result"
    }
   ],
   "source": [
    "Profitability_Explainers(Areas, Ages, Types, Price_Ranges, Capacities, Items)"
   ]
  },
  {
   "cell_type": "code",
   "execution_count": null,
   "id": "bd37f62c",
   "metadata": {},
   "outputs": [],
   "source": []
  },
  {
   "cell_type": "code",
   "execution_count": null,
   "id": "1ec12c54",
   "metadata": {},
   "outputs": [],
   "source": []
  },
  {
   "cell_type": "code",
   "execution_count": null,
   "id": "899e4fcf",
   "metadata": {},
   "outputs": [],
   "source": []
  },
  {
   "cell_type": "code",
   "execution_count": null,
   "id": "39d4a053",
   "metadata": {},
   "outputs": [],
   "source": []
  },
  {
   "cell_type": "code",
   "execution_count": 115,
   "id": "954ac372",
   "metadata": {},
   "outputs": [
    {
     "data": {
      "text/plain": [
       "       Area        Age       Type Price Range Capacity   Number of Menu Items\n",
       "0  Downtown  Developed  Cafeteria          $$   90-100  Salad & Sandwich only"
      ]
     },
     "execution_count": 115,
     "metadata": {},
     "output_type": "execute_result"
    }
   ],
   "source": [
    "tabular_data[0:1]"
   ]
  },
  {
   "cell_type": "code",
   "execution_count": 69,
   "id": "787924ad",
   "metadata": {},
   "outputs": [
    {
     "name": "stderr",
     "output_type": "stream",
     "text": [
      "Using 1044 background data samples could cause slower run times. Consider using shap.sample(data, K) or shap.kmeans(data, K) to summarize the background as K samples.\n"
     ]
    }
   ],
   "source": [
    "# Initialize a TabularExplainer\n",
    "explainers = TabularExplainer(\n",
    "   explainers=[\"lime\", \"shap\"], # The explainers to apply\n",
    "   mode=\"regression\",                             # The task type\n",
    "   data=tabular_data,                                   # The data for initializing the explainers\n",
    "   model=model,                                       # The ML model to explain\n",
    "   preprocess=pre_processing     # Converts raw features into the model inputs\n",
    "   \n",
    ")"
   ]
  },
  {
   "cell_type": "code",
   "execution_count": 70,
   "id": "d18d5f69",
   "metadata": {},
   "outputs": [
    {
     "name": "stderr",
     "output_type": "stream",
     "text": [
      "100%|████████████████████████████████████████████████████████████████████████████████████| 1/1 [00:07<00:00,  7.38s/it]\n"
     ]
    }
   ],
   "source": [
    "explanations = explainers.explain(tabular_data[0:1])\n"
   ]
  },
  {
   "cell_type": "code",
   "execution_count": 102,
   "id": "13c3f245",
   "metadata": {},
   "outputs": [],
   "source": [
    "a = explanations['lime'].get_explanations()"
   ]
  },
  {
   "cell_type": "code",
   "execution_count": 107,
   "id": "5b2160c1",
   "metadata": {},
   "outputs": [
    {
     "data": {
      "text/plain": [
       "[-21685.906853960903,\n",
       " -13196.63689255275,\n",
       " -8164.708935031015,\n",
       " 7574.361170665834,\n",
       " 3056.098963629456,\n",
       " 136.9408841443397]"
      ]
     },
     "execution_count": 107,
     "metadata": {},
     "output_type": "execute_result"
    }
   ],
   "source": [
    "a[0]['scores']"
   ]
  },
  {
   "cell_type": "code",
   "execution_count": 96,
   "id": "b9b7f510",
   "metadata": {},
   "outputs": [
    {
     "data": {
      "text/plain": [
       "\"{'instanc\""
      ]
     },
     "execution_count": 96,
     "metadata": {},
     "output_type": "execute_result"
    }
   ],
   "source": [
    "a"
   ]
  },
  {
   "cell_type": "code",
   "execution_count": 85,
   "id": "c735b26b",
   "metadata": {},
   "outputs": [],
   "source": [
    "\n",
    "analyzer = PredictionAnalyzer(\n",
    "    mode=\"regression\",\n",
    "    test_data=tabular_data[0:1],                           # The test dataset (a `Tabular` instance)\n",
    "    test_targets=np.asarray([40147]),                      # The test labels (a numpy array)\n",
    "    model=model,                                   # The ML model\n",
    "    preprocess=pre_processing  # Converts raw features into the model inputs\n",
    ")"
   ]
  },
  {
   "cell_type": "code",
   "execution_count": 87,
   "id": "7fed773b",
   "metadata": {},
   "outputs": [
    {
     "name": "stderr",
     "output_type": "stream",
     "text": [
      "R^2 score is not well-defined with less than two samples.\n"
     ]
    }
   ],
   "source": [
    "prediction_explanations = analyzer.explain()"
   ]
  },
  {
   "cell_type": "code",
   "execution_count": 88,
   "id": "e9f1e3b0",
   "metadata": {},
   "outputs": [
    {
     "data": {
      "text/plain": [
       "{'metric': <omnixai.explanations.prediction.metrics.MetricExplanation at 0x189ffa13dc0>,\n",
       " 'residual': <omnixai.explanations.prediction.residual.ResidualExplanation at 0x189ffe5cf40>}"
      ]
     },
     "execution_count": 88,
     "metadata": {},
     "output_type": "execute_result"
    }
   ],
   "source": [
    "prediction_explanations"
   ]
  },
  {
   "cell_type": "code",
   "execution_count": null,
   "id": "7c367b9f",
   "metadata": {},
   "outputs": [],
   "source": []
  }
 ],
 "metadata": {
  "kernelspec": {
   "display_name": "Python 3 (ipykernel)",
   "language": "python",
   "name": "python3"
  },
  "language_info": {
   "codemirror_mode": {
    "name": "ipython",
    "version": 3
   },
   "file_extension": ".py",
   "mimetype": "text/x-python",
   "name": "python",
   "nbconvert_exporter": "python",
   "pygments_lexer": "ipython3",
   "version": "3.9.12"
  }
 },
 "nbformat": 4,
 "nbformat_minor": 5
}
